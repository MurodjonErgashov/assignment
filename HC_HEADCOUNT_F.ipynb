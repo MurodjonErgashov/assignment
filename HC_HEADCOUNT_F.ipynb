{
 "cells": [
  {
   "cell_type": "code",
   "execution_count": 0,
   "metadata": {
    "application/vnd.databricks.v1+cell": {
     "cellMetadata": {},
     "inputWidgets": {},
     "nuid": "5925b9fa-90e3-4bd8-9b99-6b034e20585f",
     "showTitle": false,
     "tableResultSettingsMap": {},
     "title": ""
    }
   },
   "outputs": [],
   "source": [
    "from pyspark.sql.functions import *\n",
    "from pyspark.sql.types import *"
   ]
  },
  {
   "cell_type": "code",
   "execution_count": 0,
   "metadata": {
    "application/vnd.databricks.v1+cell": {
     "cellMetadata": {},
     "inputWidgets": {},
     "nuid": "38247b72-f67d-495a-a1c1-66f5e4795365",
     "showTitle": true,
     "tableResultSettingsMap": {},
     "title": "Paths"
    }
   },
   "outputs": [],
   "source": [
    "curated_path_training = f\"{data_curated_path}/HC_TRAINING_D\"\n",
    "curated_path_employee = f\"{data_curated_path}/HC_EMPLOYEE_D\"\n",
    "curated_path_date = f\"{data_curated_path}/COM_DATE_D\""
   ]
  },
  {
   "cell_type": "code",
   "execution_count": 0,
   "metadata": {
    "application/vnd.databricks.v1+cell": {
     "cellMetadata": {},
     "inputWidgets": {},
     "nuid": "1e9ff81d-7e31-4c21-82c3-092f2e134481",
     "showTitle": true,
     "tableResultSettingsMap": {},
     "title": "Reading from Delta"
    }
   },
   "outputs": [],
   "source": [
    "df_employee = spark.read.format(\"delta\").load(curated_path_employee)\n",
    "df_training = spark.read.format(\"delta\").load(curated_path_training)\n",
    "df_date = spark.read.format(\"delta\").load(curated_path_date)"
   ]
  },
  {
   "cell_type": "code",
   "execution_count": null,
   "metadata": {},
   "outputs": [],
   "source": [
    "df_employee = df_employee.withColumn('Performance Score', decrypt_data(col('Performance Score'))) \\\n",
    "    .withColumn('Current Employee Rating', decrypt_data(col('Current Employee Rating')))"
   ]
  },
  {
   "cell_type": "code",
   "execution_count": 0,
   "metadata": {
    "application/vnd.databricks.v1+cell": {
     "cellMetadata": {},
     "inputWidgets": {},
     "nuid": "06642c02-df8e-49d3-8b92-5dd4b804fd02",
     "showTitle": true,
     "tableResultSettingsMap": {},
     "title": "Make Date Table Monthly"
    }
   },
   "outputs": [],
   "source": [
    "date_df_monthly = (\n",
    "    df_date\n",
    "    .withColumn(\"SnapshotMonth\", F.trunc(\"date\", \"month\"))\n",
    "    .select(\"SnapshotMonth\")\n",
    "    .distinct()\n",
    ")"
   ]
  },
  {
   "cell_type": "code",
   "execution_count": 0,
   "metadata": {
    "application/vnd.databricks.v1+cell": {
     "cellMetadata": {},
     "inputWidgets": {},
     "nuid": "05816a75-88ba-4efd-b0d5-566779e26ef5",
     "showTitle": true,
     "tableResultSettingsMap": {},
     "title": "Build Employee Snapshot"
    }
   },
   "outputs": [],
   "source": [
    "\n",
    "df_employee = df_employee.withColumnRenamed(\"EmpID\", \"EmployeeID\")\n",
    "\n",
    "employee_snapshots = (\n",
    "    df_employee.crossJoin(date_df_monthly)\n",
    "    .filter(\n",
    "        (F.col(\"start_date_eff\") <= F.col(\"SnapshotMonth\")) &\n",
    "        ((F.col(\"end_date_eff\").isNull()) | (F.col(\"end_date_eff\") > F.col(\"SnapshotMonth\")))\n",
    "    )\n",
    ")"
   ]
  },
  {
   "cell_type": "code",
   "execution_count": 0,
   "metadata": {
    "application/vnd.databricks.v1+cell": {
     "cellMetadata": {},
     "inputWidgets": {},
     "nuid": "ddfbd600-cd92-478a-a639-4652c7f19ba3",
     "showTitle": true,
     "tableResultSettingsMap": {},
     "title": "Getting Monthly Snapshot of Training Data"
    }
   },
   "outputs": [],
   "source": [
    "df_training = df_training.withColumnRenamed(\"Employee ID\", \"EmployeeID\")\n",
    "train_agg = (\n",
    "    df_training\n",
    "    .withColumn(\"TrainingMonth\", F.trunc(\"Training Date\", \"month\"))\n",
    "    .groupBy(\"Employee ID\", \"TrainingMonth\")\n",
    "    .agg(\n",
    "        F.count(\"*\").alias(\"TrainingCount\"),\n",
    "        F.sum(\"TrainingDuration(Days)\").alias(\"TotalTrainingDays\"),\n",
    "        F.sum(\"TrainingCost\").alias(\"TotalTrainingCost\")\n",
    "    )\n",
    ")"
   ]
  },
  {
   "cell_type": "code",
   "execution_count": 0,
   "metadata": {
    "application/vnd.databricks.v1+cell": {
     "cellMetadata": {},
     "inputWidgets": {},
     "nuid": "01b56959-e5e8-447f-be2b-eb3ae260d82d",
     "showTitle": false,
     "tableResultSettingsMap": {},
     "title": ""
    }
   },
   "outputs": [],
   "source": [
    "fact_snapshot = (\n",
    "    employee_snapshots\n",
    "    .join(train_agg, \n",
    "          (employee_snapshots.EmployeeID == train_agg.EmployeeID) &\n",
    "          (employee_snapshots.SnapshotMonth == train_agg.TrainingMonth),\n",
    "          \"left\"\n",
    "    )\n",
    "    .select(\n",
    "        \"SnapshotMonth\",\n",
    "        \"EmployeeID\",\n",
    "        \"BusinessUnit\",\n",
    "        \"DepartmentType\",\n",
    "        \"Division\",\n",
    "        \"EmployeeStatus\",\n",
    "        \"EmployeeType\",\n",
    "        \"EmployeeClassificationType\",\n",
    "        \"Performance Score\",\n",
    "        \"Current Employee Rating\",\n",
    "        F.coalesce(\"TrainingCount\", F.lit(0)).alias(\"TrainingCount\"),\n",
    "        F.coalesce(\"TotalTrainingDays\", F.lit(0)).alias(\"TotalTrainingDays\"),\n",
    "        F.coalesce(\"TotalTrainingCost\", F.lit(0)).alias(\"TotalTrainingCost\")\n",
    "    )\n",
    ")"
   ]
  },
  {
   "cell_type": "code",
   "execution_count": null,
   "metadata": {},
   "outputs": [],
   "source": [
    "fact_snapshot = fact_snapshot.withColumn('Performance Score', encrypt_data(col('Performance Score'))) \\\n",
    "    .withColumn('Current Employee Rating', encrypt_data(col('Current Employee Rating')))"
   ]
  },
  {
   "cell_type": "code",
   "execution_count": 0,
   "metadata": {
    "application/vnd.databricks.v1+cell": {
     "cellMetadata": {},
     "inputWidgets": {},
     "nuid": "c4a3f252-d427-4c7f-806c-0a8a1ae3b014",
     "showTitle": false,
     "tableResultSettingsMap": {},
     "title": ""
    }
   },
   "outputs": [],
   "source": [
    "integration_id = ['SnapshotMonth', 'EmployeeID']"
   ]
  },
  {
   "cell_type": "code",
   "execution_count": 0,
   "metadata": {
    "application/vnd.databricks.v1+cell": {
     "cellMetadata": {},
     "inputWidgets": {},
     "nuid": "d4b58ed8-8808-4369-adf3-19af4c0f0bda",
     "showTitle": true,
     "tableResultSettingsMap": {},
     "title": "Add Logging Columns / Cast Date columns"
    }
   },
   "outputs": [],
   "source": [
    "df_final = update_dw_columns(fact_snapshot , key_column_list, '', 'KAGGLE')\n",
    "df_final = convert_date_columns(df_final)"
   ]
  },
  {
   "cell_type": "code",
   "execution_count": 0,
   "metadata": {
    "application/vnd.databricks.v1+cell": {
     "cellMetadata": {},
     "inputWidgets": {},
     "nuid": "37577d66-d8cc-4be0-9cff-3fd2c30a0a3a",
     "showTitle": true,
     "tableResultSettingsMap": {},
     "title": "Writing to Data Lake"
    }
   },
   "outputs": [],
   "source": [
    "write_to_data_lake(df_final, 'delta', 'merge', '{curated_path}/HC_HEADCOUNT_F', integration_id)"
   ]
  }
 ],
 "metadata": {
  "application/vnd.databricks.v1+notebook": {
   "computePreferences": null,
   "dashboards": [],
   "environmentMetadata": {
    "base_environment": "",
    "environment_version": "3"
   },
   "inputWidgetPreferences": null,
   "language": "python",
   "notebookMetadata": {
    "pythonIndentUnit": 4
   },
   "notebookName": "HC_HEADCOUNT_F",
   "widgets": {}
  },
  "language_info": {
   "name": "python"
  }
 },
 "nbformat": 4,
 "nbformat_minor": 0
}
