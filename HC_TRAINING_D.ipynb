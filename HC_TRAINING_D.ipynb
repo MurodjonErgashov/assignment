{
 "cells": [
  {
   "cell_type": "code",
   "execution_count": 0,
   "metadata": {
    "application/vnd.databricks.v1+cell": {
     "cellMetadata": {},
     "inputWidgets": {},
     "nuid": "a6b8c10e-1773-456a-89c0-afc93015a970",
     "showTitle": false,
     "tableResultSettingsMap": {},
     "title": ""
    }
   },
   "outputs": [],
   "source": [
    "from pyspark.sql.functions import *\n",
    "from pyspark.sql.types import *"
   ]
  },
  {
   "cell_type": "code",
   "execution_count": 0,
   "metadata": {
    "application/vnd.databricks.v1+cell": {
     "cellMetadata": {},
     "inputWidgets": {},
     "nuid": "7699069f-a61e-4880-b33d-03edac9d95d6",
     "showTitle": true,
     "tableResultSettingsMap": {},
     "title": "Calling Utils"
    }
   },
   "outputs": [],
   "source": [
    "%run \"./UTIL_FUNCTIONS\""
   ]
  },
  {
   "cell_type": "code",
   "execution_count": 0,
   "metadata": {
    "application/vnd.databricks.v1+cell": {
     "cellMetadata": {},
     "inputWidgets": {},
     "nuid": "838b31b5-5edf-4240-bd37-3442ece496c7",
     "showTitle": true,
     "tableResultSettingsMap": {},
     "title": "Calling Constants"
    }
   },
   "outputs": [],
   "source": [
    "%run \"./CONSTANTS\""
   ]
  },
  {
   "cell_type": "code",
   "execution_count": 0,
   "metadata": {
    "application/vnd.databricks.v1+cell": {
     "cellMetadata": {},
     "inputWidgets": {},
     "nuid": "24afcddb-6357-44a8-9e2c-eb1d91d203b0",
     "showTitle": true,
     "tableResultSettingsMap": {},
     "title": "Reading Parameters"
    }
   },
   "outputs": [],
   "source": [
    "data_source = dbutils.widgets.get(\"DATA_SOURCE\")\n",
    "integration_id = dbutils.widgets.get(\"INTEGRATION_ID\")\n",
    "load_type = dbutils.widgets.get(\"LOAD_TYPE\")\n",
    "run_id = dbutils.widgets.get(\"RUN_ID\")\n",
    "target_table = dbutils.widgets.get(\"TARGET_TABLE\")\n",
    "key_column_list = integration_id.split(',')"
   ]
  },
  {
   "cell_type": "code",
   "execution_count": 0,
   "metadata": {
    "application/vnd.databricks.v1+cell": {
     "cellMetadata": {},
     "inputWidgets": {},
     "nuid": "48578692-af55-4700-b751-0ef729e3faa7",
     "showTitle": true,
     "tableResultSettingsMap": {},
     "title": "Path"
    }
   },
   "outputs": [],
   "source": [
    "landing_path = f\"{data_landing_path}\"\n",
    "curated_path = f\"{data_curated_path}{target_table}/\""
   ]
  },
  {
   "cell_type": "code",
   "execution_count": 0,
   "metadata": {
    "application/vnd.databricks.v1+cell": {
     "cellMetadata": {},
     "inputWidgets": {},
     "nuid": "d4020171-b732-47bb-b551-dd7b2f81f59f",
     "showTitle": true,
     "tableResultSettingsMap": {},
     "title": "Schema Enforcement"
    }
   },
   "outputs": [],
   "source": [
    "training_schema = StructType([\n",
    "    StructField(\"Employee ID\", StringType(), True),              # ID as string (safer if mixed formats)\n",
    "    StructField(\"Training Date\", DateType(), True),              # Training date\n",
    "    StructField(\"Training Program Name\", StringType(), True),\n",
    "    StructField(\"Training Type\", StringType(), True),\n",
    "    StructField(\"Training Outcome\", StringType(), True),\n",
    "    StructField(\"Location\", StringType(), True),\n",
    "    StructField(\"Trainer\", StringType(), True),\n",
    "    StructField(\"Training Duration(Days)\", IntegerType(), True), # duration should be int\n",
    "    StructField(\"Training Cost\", DoubleType(), True)             # cost as numeric (decimal/double)\n",
    "])\n",
    "df = spark.read.schema(training_schema).format('csv').option('header', True).load(f'{landing_path}/training_and_development_data.csv')\n"
   ]
  },
  {
   "cell_type": "code",
   "execution_count": 0,
   "metadata": {
    "application/vnd.databricks.v1+cell": {
     "cellMetadata": {},
     "inputWidgets": {},
     "nuid": "ddd89150-e164-4dc5-bd2e-32ed1b09360c",
     "showTitle": true,
     "tableResultSettingsMap": {},
     "title": "Data Quality Check"
    }
   },
   "outputs": [],
   "source": [
    "quality_df = []\n",
    "\n",
    "# check for nulls\n",
    "quality_df.extend([check_to_nulls(df, val) for val in ['Employee ID', 'Traning Date', 'Training Program Name', 'Trainer', 'Training Cost']])\n",
    "\n",
    "# check for valid state\n",
    "quality_df.extend([check_for_valid_state(df, 'Training Type', ['External', 'Internal']), check_for_valid_state(df, 'Training Outcome', ['Passed', 'Completed', 'Failed', 'Incomplete'])])\n",
    "                                                                                                 \n",
    "union_df = reduce(DataFrame.unionByName, quality_df)"
   ]
  },
  {
   "cell_type": "code",
   "execution_count": 0,
   "metadata": {
    "application/vnd.databricks.v1+cell": {
     "cellMetadata": {},
     "inputWidgets": {},
     "nuid": "788e06aa-4e95-40db-8926-4dd9ea20cb82",
     "showTitle": true,
     "tableResultSettingsMap": {},
     "title": "Data Quality Table"
    }
   },
   "outputs": [],
   "source": [
    "write_to_data_lake(union_df, 'delta', 'owerwrite', '{curated_path}/{target_table}_DQ', '')"
   ]
  },
  {
   "cell_type": "code",
   "execution_count": 0,
   "metadata": {
    "application/vnd.databricks.v1+cell": {
     "cellMetadata": {},
     "inputWidgets": {},
     "nuid": "e142410d-3f4b-4787-8f39-36162545e51c",
     "showTitle": true,
     "tableResultSettingsMap": {},
     "title": "Add logging columns/ Converts Dates"
    }
   },
   "outputs": [],
   "source": [
    "df_final = update_dw_columns(df , key_column_list, run_id, data_source)\n",
    "df_final = convert_date_columns(df_final)"
   ]
  },
  {
   "cell_type": "code",
   "execution_count": 0,
   "metadata": {
    "application/vnd.databricks.v1+cell": {
     "cellMetadata": {},
     "inputWidgets": {},
     "nuid": "c1c49fea-f0e6-4cf5-96b7-428eb8e71142",
     "showTitle": true,
     "tableResultSettingsMap": {},
     "title": "Write to Curated"
    }
   },
   "outputs": [],
   "source": [
    "write_to_data_lake(df_final, 'delta', 'merge', '{curated_path}/{target_table}', integration_id)"
   ]
  }
 ],
 "metadata": {
  "application/vnd.databricks.v1+notebook": {
   "computePreferences": null,
   "dashboards": [],
   "environmentMetadata": {
    "base_environment": "",
    "environment_version": "3"
   },
   "inputWidgetPreferences": null,
   "language": "python",
   "notebookMetadata": {
    "pythonIndentUnit": 4
   },
   "notebookName": "HC_TRAINING_D",
   "widgets": {
    "DATA_SOURCE": {
     "currentValue": "KAGGLE",
     "nuid": "2bdbb5c2-5277-4099-bd70-159840dab638",
     "typedWidgetInfo": {
      "autoCreated": false,
      "defaultValue": "",
      "label": "",
      "name": "DATA_SOURCE",
      "options": {
       "widgetDisplayType": "Text",
       "validationRegex": null
      },
      "parameterDataType": "String"
     },
     "widgetInfo": {
      "widgetType": "text",
      "defaultValue": "",
      "label": "",
      "name": "DATA_SOURCE",
      "options": {
       "widgetType": "text",
       "autoCreated": false,
       "validationRegex": null
      }
     }
    },
    "INTEGRATION_ID": {
     "currentValue": "Employee ID, Training Id",
     "nuid": "5620de60-b64c-4e21-9599-341c5c16749a",
     "typedWidgetInfo": {
      "autoCreated": false,
      "defaultValue": "",
      "label": "",
      "name": "INTEGRATION_ID",
      "options": {
       "widgetDisplayType": "Text",
       "validationRegex": null
      },
      "parameterDataType": "String"
     },
     "widgetInfo": {
      "widgetType": "text",
      "defaultValue": "",
      "label": "",
      "name": "INTEGRATION_ID",
      "options": {
       "widgetType": "text",
       "autoCreated": false,
       "validationRegex": null
      }
     }
    },
    "LOAD_TYPE": {
     "currentValue": "INCREMENTAL",
     "nuid": "de748959-c382-4b86-a887-8a4fd6386fe3",
     "typedWidgetInfo": {
      "autoCreated": false,
      "defaultValue": "",
      "label": "",
      "name": "LOAD_TYPE",
      "options": {
       "widgetDisplayType": "Text",
       "validationRegex": null
      },
      "parameterDataType": "String"
     },
     "widgetInfo": {
      "widgetType": "text",
      "defaultValue": "",
      "label": "",
      "name": "LOAD_TYPE",
      "options": {
       "widgetType": "text",
       "autoCreated": false,
       "validationRegex": null
      }
     }
    },
    "RUN_ID": {
     "currentValue": "1111.23.4.4.3.3.2.2",
     "nuid": "8dcad406-f8f8-4271-8ee4-d6b9cbf29224",
     "typedWidgetInfo": {
      "autoCreated": false,
      "defaultValue": "",
      "label": "",
      "name": "RUN_ID",
      "options": {
       "widgetDisplayType": "Text",
       "validationRegex": null
      },
      "parameterDataType": "String"
     },
     "widgetInfo": {
      "widgetType": "text",
      "defaultValue": "",
      "label": "",
      "name": "RUN_ID",
      "options": {
       "widgetType": "text",
       "autoCreated": false,
       "validationRegex": null
      }
     }
    },
    "TARGET_TABLE": {
     "currentValue": "HC_TRAINING_D",
     "nuid": "051cad0e-09ad-42a8-af08-d551ed412e29",
     "typedWidgetInfo": {
      "autoCreated": false,
      "defaultValue": "",
      "label": "",
      "name": "TARGET_TABLE",
      "options": {
       "widgetDisplayType": "Text",
       "validationRegex": null
      },
      "parameterDataType": "String"
     },
     "widgetInfo": {
      "widgetType": "text",
      "defaultValue": "",
      "label": "",
      "name": "TARGET_TABLE",
      "options": {
       "widgetType": "text",
       "autoCreated": false,
       "validationRegex": null
      }
     }
    }
   }
  },
  "language_info": {
   "name": "python"
  }
 },
 "nbformat": 4,
 "nbformat_minor": 0
}