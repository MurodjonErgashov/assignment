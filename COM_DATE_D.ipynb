{
 "cells": [
  {
   "cell_type": "code",
   "execution_count": 0,
   "metadata": {
    "application/vnd.databricks.v1+cell": {
     "cellMetadata": {},
     "inputWidgets": {},
     "nuid": "b885107e-f41d-47e2-a43a-1c9f63f5fe44",
     "showTitle": false,
     "tableResultSettingsMap": {},
     "title": ""
    }
   },
   "outputs": [],
   "source": [
    "from pyspark.sql.functions import col, expr, sequence, to_date, year, month, dayofmonth, dayofweek, weekofyear, quarter, date_format\n",
    "from pyspark.sql import SparkSession"
   ]
  },
  {
   "cell_type": "code",
   "execution_count": 0,
   "metadata": {
    "application/vnd.databricks.v1+cell": {
     "cellMetadata": {},
     "inputWidgets": {},
     "nuid": "dd2c2b6a-7be4-486f-8e69-c6c96932a377",
     "showTitle": true,
     "tableResultSettingsMap": {},
     "title": "Call Constants"
    }
   },
   "outputs": [],
   "source": [
    "%run \"./CONSTANTS\""
   ]
  },
  {
   "cell_type": "code",
   "execution_count": 0,
   "metadata": {
    "application/vnd.databricks.v1+cell": {
     "cellMetadata": {},
     "inputWidgets": {},
     "nuid": "074c0f0c-a30e-4a2e-847a-a1e2fac0d400",
     "showTitle": true,
     "tableResultSettingsMap": {},
     "title": "Call Utils"
    }
   },
   "outputs": [],
   "source": [
    "%run \"./UTIL_FUNCTIONS\""
   ]
  },
  {
   "cell_type": "code",
   "execution_count": 0,
   "metadata": {
    "application/vnd.databricks.v1+cell": {
     "cellMetadata": {},
     "inputWidgets": {},
     "nuid": "67b00959-ad63-410c-8ef5-c5a28ca3898d",
     "showTitle": true,
     "tableResultSettingsMap": {},
     "title": "Intervals"
    }
   },
   "outputs": [],
   "source": [
    "start_date = \"2000-01-01\"\n",
    "end_date   = \"2030-12-31\""
   ]
  },
  {
   "cell_type": "code",
   "execution_count": 0,
   "metadata": {
    "application/vnd.databricks.v1+cell": {
     "cellMetadata": {},
     "inputWidgets": {},
     "nuid": "2cd9d66a-7b1a-4bb7-ac4e-b07c60fca028",
     "showTitle": true,
     "tableResultSettingsMap": {},
     "title": "Add Required Date Columns"
    }
   },
   "outputs": [],
   "source": [
    "\n",
    "df_dates = (spark.sql(f\"SELECT sequence(to_date('{start_date}'), to_date('{end_date}'), interval 1 day) as calendar_dates\")\n",
    "                 .withColumn(\"date\", expr(\"explode(calendar_dates)\"))\n",
    "                 .drop(\"calendar_dates\"))\n",
    "\n",
    "date_dim = (df_dates\n",
    "    .withColumn(\"year\", year(\"date\"))\n",
    "    .withColumn(\"quarter\", quarter(\"date\"))\n",
    "    .withColumn(\"month\", month(\"date\"))\n",
    "    .withColumn(\"week_of_year\", weekofyear(\"date\"))\n",
    "    .withColumn(\"day_of_month\", dayofmonth(\"date\"))\n",
    "    .withColumn(\"day_of_week\", dayofweek(\"date\"))   # 1 = Sunday in Spark\n",
    "    .withColumn(\"day_name\", date_format(col(\"date\"), \"EEEE\"))  # Monday, Tuesday...\n",
    "    .withColumn(\"month_name\", date_format(col(\"date\"), \"MMMM\")) # January, February...\n",
    ")\n",
    "\n",
    "display(date_dim)"
   ]
  },
  {
   "cell_type": "code",
   "execution_count": 0,
   "metadata": {
    "application/vnd.databricks.v1+cell": {
     "cellMetadata": {},
     "inputWidgets": {},
     "nuid": "2cd3490c-fc5b-4ab4-927d-c2243bdea229",
     "showTitle": false,
     "tableResultSettingsMap": {},
     "title": ""
    }
   },
   "outputs": [],
   "source": [
    "write_to_data_lake(date_dim, 'delta', 'owerwrite', '{curated_path}/COM_DATE_D', '')"
   ]
  }
 ],
 "metadata": {
  "application/vnd.databricks.v1+notebook": {
   "computePreferences": null,
   "dashboards": [],
   "environmentMetadata": {
    "base_environment": "",
    "environment_version": "3"
   },
   "inputWidgetPreferences": null,
   "language": "python",
   "notebookMetadata": {
    "pythonIndentUnit": 4
   },
   "notebookName": "COM_DATE_D",
   "widgets": {}
  },
  "language_info": {
   "name": "python"
  }
 },
 "nbformat": 4,
 "nbformat_minor": 0
}