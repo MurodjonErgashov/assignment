{
 "cells": [
  {
   "cell_type": "code",
   "execution_count": 0,
   "metadata": {
    "application/vnd.databricks.v1+cell": {
     "cellMetadata": {},
     "inputWidgets": {},
     "nuid": "29a92d22-3494-4097-9562-370bb496189b",
     "showTitle": true,
     "tableResultSettingsMap": {},
     "title": "Containers"
    }
   },
   "outputs": [],
   "source": [
    "landing_container_name = \"landing\"\n",
    "curated_container_name = \"curated\""
   ]
  },
  {
   "cell_type": "code",
   "execution_count": 0,
   "metadata": {
    "application/vnd.databricks.v1+cell": {
     "cellMetadata": {},
     "inputWidgets": {},
     "nuid": "786713c0-94f5-4b38-868e-2378d63fe974",
     "showTitle": true,
     "tableResultSettingsMap": {},
     "title": "Reading from Secret"
    }
   },
   "outputs": [],
   "source": [
    "alds_account_name = dbutils.secrets.get(scope = \"key-vault-secret\", key = \"adls-account-name\")\n",
    "alds_access_key =  dbutils.secrets.get(scope = \"key-vault-secret\", key = \"adls-access-key\")"
   ]
  },
  {
   "cell_type": "code",
   "execution_count": 0,
   "metadata": {
    "application/vnd.databricks.v1+cell": {
     "cellMetadata": {},
     "inputWidgets": {},
     "nuid": "771e56be-d48b-4d39-8d4f-0ba7e7519245",
     "showTitle": true,
     "tableResultSettingsMap": {},
     "title": "Base Paths"
    }
   },
   "outputs": [],
   "source": [
    "basepath_landing = \"/mnt/landing/\"\n",
    "basepath_curated = \"/mnt/curated/\""
   ]
  },
  {
   "cell_type": "code",
   "execution_count": 0,
   "metadata": {
    "application/vnd.databricks.v1+cell": {
     "cellMetadata": {},
     "inputWidgets": {},
     "nuid": "dd5c0e51-8390-4742-ab20-a7513a64bf7c",
     "showTitle": true,
     "tableResultSettingsMap": {},
     "title": "Landing/Curated Paths"
    }
   },
   "outputs": [],
   "source": [
    "data_landing_path = basepath_landing + \"mltest/\"\n",
    "data_curated_path = basepath_curated + \"mltest/\""
   ]
  },
  {
   "cell_type": "markdown",
   "metadata": {
    "application/vnd.databricks.v1+cell": {
     "cellMetadata": {},
     "inputWidgets": {},
     "nuid": "d56b25ea-9d82-4c8f-958d-b9c0a3f31677",
     "showTitle": false,
     "tableResultSettingsMap": {},
     "title": ""
    }
   },
   "source": []
  }
 ],
 "metadata": {
  "application/vnd.databricks.v1+notebook": {
   "computePreferences": null,
   "dashboards": [],
   "environmentMetadata": {
    "base_environment": "",
    "environment_version": "3"
   },
   "inputWidgetPreferences": null,
   "language": "python",
   "notebookMetadata": {
    "pythonIndentUnit": 4
   },
   "notebookName": "CONSTANTS",
   "widgets": {}
  },
  "language_info": {
   "name": "python"
  }
 },
 "nbformat": 4,
 "nbformat_minor": 0
}