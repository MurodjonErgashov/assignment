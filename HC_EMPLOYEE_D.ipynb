{
 "cells": [
  {
   "cell_type": "code",
   "execution_count": 0,
   "metadata": {
    "application/vnd.databricks.v1+cell": {
     "cellMetadata": {},
     "inputWidgets": {},
     "nuid": "204bb25f-f8b8-4ab4-9731-9bb4de6d55a7",
     "showTitle": false,
     "tableResultSettingsMap": {},
     "title": ""
    }
   },
   "outputs": [],
   "source": [
    "from pyspark.sql.functions import *\n",
    "from cryptography.fernet import Fernet\n",
    "from pyspark.sql.types import StringType\n",
    "from functools import reduce\n",
    "from pyspark.sql import DataFrame\n",
    "from pyspark.sql.functions import current_timestamp, lit\n",
    "from pyspark.sql.functions import current_timestamp\n",
    "from delta.tables import DeltaTable\n",
    "from pyspark.sql.types import *"
   ]
  },
  {
   "cell_type": "code",
   "execution_count": 0,
   "metadata": {
    "application/vnd.databricks.v1+cell": {
     "cellMetadata": {},
     "inputWidgets": {},
     "nuid": "766cc2a1-281f-4e81-adb6-ce3d3dade11a",
     "showTitle": true,
     "tableResultSettingsMap": {},
     "title": "Call Utils"
    }
   },
   "outputs": [],
   "source": [
    "%run \"./UTIL_FUNCTIONS\""
   ]
  },
  {
   "cell_type": "code",
   "execution_count": 0,
   "metadata": {
    "application/vnd.databricks.v1+cell": {
     "cellMetadata": {},
     "inputWidgets": {},
     "nuid": "9909ec55-ba1d-4cfa-b929-1a8eac547d23",
     "showTitle": true,
     "tableResultSettingsMap": {},
     "title": "Call Contraints"
    }
   },
   "outputs": [],
   "source": [
    "%run \"./CONSTANTS\""
   ]
  },
  {
   "cell_type": "code",
   "execution_count": 0,
   "metadata": {
    "application/vnd.databricks.v1+cell": {
     "cellMetadata": {},
     "inputWidgets": {},
     "nuid": "ce4d40b6-bffe-4934-9ab9-951aa4e299e0",
     "showTitle": true,
     "tableResultSettingsMap": {},
     "title": "Reading Parameters"
    }
   },
   "outputs": [],
   "source": [
    "data_source = dbutils.widgets.get(\"DATA_SOURCE\")\n",
    "integration_id = dbutils.widgets.get(\"INTEGRATION_ID\")\n",
    "load_type = dbutils.widgets.get(\"LOAD_TYPE\")\n",
    "run_id = dbutils.widgets.get(\"RUN_ID\")\n",
    "target_table = dbutils.widgets.get(\"TARGET_TABLE\")\n",
    "key_column_list = integration_id.split(',')"
   ]
  },
  {
   "cell_type": "code",
   "execution_count": 0,
   "metadata": {
    "application/vnd.databricks.v1+cell": {
     "cellMetadata": {},
     "inputWidgets": {},
     "nuid": "e21444b8-0adf-4a86-9127-e2700ff22160",
     "showTitle": true,
     "tableResultSettingsMap": {},
     "title": "Path"
    }
   },
   "outputs": [],
   "source": [
    "landing_path = f\"{data_landing_path}\"\n",
    "curated_path = f\"{data_curated_path}\""
   ]
  },
  {
   "cell_type": "code",
   "execution_count": 0,
   "metadata": {
    "application/vnd.databricks.v1+cell": {
     "cellMetadata": {},
     "inputWidgets": {},
     "nuid": "3235ad7d-a489-463d-a402-5c76d22ced42",
     "showTitle": true,
     "tableResultSettingsMap": {},
     "title": "Schema Enforcement"
    }
   },
   "outputs": [],
   "source": [
    "employee_schema = StructType([\n",
    "    StructField(\"EmpID\", StringType(), True),\n",
    "    StructField(\"FirstName\", StringType(), True),\n",
    "    StructField(\"LastName\", StringType(), True),\n",
    "    StructField(\"StartDate\", DateType(), True),\n",
    "    StructField(\"ExitDate\", DateType(), True),\n",
    "    StructField(\"Title\", StringType(), True),\n",
    "    StructField(\"Supervisor\", StringType(), True),\n",
    "    StructField(\"ADEmail\", StringType(), True),\n",
    "    StructField(\"BusinessUnit\", StringType(), True),\n",
    "    StructField(\"EmployeeStatus\", StringType(), True),\n",
    "    StructField(\"EmployeeType\", StringType(), True),\n",
    "    StructField(\"PayZone\", StringType(), True),\n",
    "    StructField(\"EmployeeClassificationType\", StringType(), True),\n",
    "    StructField(\"TerminationType\", StringType(), True),\n",
    "    StructField(\"TerminationDescription\", StringType(), True),\n",
    "    StructField(\"DepartmentType\", StringType(), True),\n",
    "    StructField(\"Division\", StringType(), True),\n",
    "    StructField(\"DOB\", DateType(), True),\n",
    "    StructField(\"State\", StringType(), True),\n",
    "    StructField(\"JobFunctionDescription\", StringType(), True),\n",
    "    StructField(\"GenderCode\", StringType(), True),\n",
    "    StructField(\"LocationCode\", StringType(), True),\n",
    "    StructField(\"RaceDesc\", StringType(), True),\n",
    "    StructField(\"MaritalDesc\", StringType(), True),\n",
    "    StructField(\"PerformanceScore\", StringType(), True),\n",
    "    StructField(\"CurrentEmployeeRating\", StringType(), True),\n",
    "])\n",
    "df = spark.read.schema(employee_schema).format('csv').option('header', True).load(f'{landing_path}/employee_data.csv')"
   ]
  },
  {
   "cell_type": "code",
   "execution_count": 0,
   "metadata": {
    "application/vnd.databricks.v1+cell": {
     "cellMetadata": {},
     "inputWidgets": {},
     "nuid": "c29b95c2-94dd-429f-becd-83d85bbbb135",
     "showTitle": true,
     "tableResultSettingsMap": {},
     "title": "Data Quality, Consitency Check"
    }
   },
   "outputs": [],
   "source": [
    "quality_df = []\n",
    "\n",
    "# check for dupplicate\n",
    "quality_df.append(check_duplicates(df, 'EmpID'))\n",
    "\n",
    "# check for nulls\n",
    "quality_df.extend([check_to_nulls(df, val) for val in ['EmpID', 'ADEmail', 'StartDate', 'FirstName', 'LastName', 'EmployeeStatus', 'EmployeeType', 'BusinessUnit', 'Supervisor', 'DepartmentType', 'Division']])\n",
    "\n",
    "# check for valid state\n",
    "quality_df.extend([check_for_valid_state(df, 'GenderCode', ['Male', 'Female']), check_for_valid_state(df, 'EmployeeType', ['Contract', 'Full-Time', 'Part-Time'])])\n",
    "\n",
    "# check for email column\n",
    "quality_df.append(check_for_email_format(df, 'ADEmail'))\n",
    "                                               \n",
    " # check termination/start date consitency check\n",
    "quality_df.append(check_logical_date(df, 'StartDate',  'ExitDate'))\n",
    "                                                                                                 \n",
    "union_df = reduce(DataFrame.unionByName, quality_df)"
   ]
  },
  {
   "cell_type": "code",
   "execution_count": 0,
   "metadata": {
    "application/vnd.databricks.v1+cell": {
     "cellMetadata": {},
     "inputWidgets": {},
     "nuid": "c10ad656-2a59-42d7-845e-00f0520d2421",
     "showTitle": true,
     "tableResultSettingsMap": {},
     "title": "Write Data with DQ issue"
    }
   },
   "outputs": [],
   "source": [
    "write_to_data_lake(union_df, 'delta', 'owerwrite', '{curated_path}/{target_table}_DQ', '')"
   ]
  },
  {
   "cell_type": "code",
   "execution_count": 0,
   "metadata": {
    "application/vnd.databricks.v1+cell": {
     "cellMetadata": {},
     "inputWidgets": {},
     "nuid": "8a528114-ebb1-4deb-be58-f56d81ed3040",
     "showTitle": true,
     "tableResultSettingsMap": {},
     "title": "Encrypt Sensetive Data"
    }
   },
   "outputs": [],
   "source": [
    "df = df.withColumn('Performance Score', encrypt_data(col('Performance Score'))) \\\n",
    "    .withColumn('Current Employee Rating', encrypt_data(col('Current Employee Rating')))"
   ]
  },
  {
   "cell_type": "code",
   "execution_count": 0,
   "metadata": {
    "application/vnd.databricks.v1+cell": {
     "cellMetadata": {
      "byteLimit": 2048000,
      "rowLimit": 10000
     },
     "inputWidgets": {},
     "nuid": "ab914769-bd26-4854-92c1-bbafb46f7c4b",
     "showTitle": true,
     "tableResultSettingsMap": {},
     "title": "Add Logging Columns / Cast Date columns"
    },
    "jupyter": {
     "outputs_hidden": true
    }
   },
   "outputs": [],
   "source": [
    "df_final = update_dw_columns(df , key_column_list, run_id, data_source)\n",
    "df_final = convert_date_columns(df_final)"
   ]
  },
  {
   "cell_type": "code",
   "execution_count": 0,
   "metadata": {
    "application/vnd.databricks.v1+cell": {
     "cellMetadata": {},
     "inputWidgets": {},
     "nuid": "8e3c25d3-22c3-4c3a-803f-b235eb4ae28b",
     "showTitle": true,
     "tableResultSettingsMap": {},
     "title": "Write to Curated"
    }
   },
   "outputs": [],
   "source": [
    "write_to_data_lake(df, 'delta', 'scd2', '{curated_path}/{target_table}', integration_id)"
   ]
  }
 ],
 "metadata": {
  "application/vnd.databricks.v1+notebook": {
   "computePreferences": null,
   "dashboards": [],
   "environmentMetadata": {
    "base_environment": "",
    "environment_version": "3"
   },
   "inputWidgetPreferences": null,
   "language": "python",
   "notebookMetadata": {
    "pythonIndentUnit": 4
   },
   "notebookName": "HC_EMPLOYEE_D",
   "widgets": {
    "DATA_SOURCE": {
     "currentValue": "KAGGLE",
     "nuid": "d5631943-406d-460c-8a61-ee68ec711800",
     "typedWidgetInfo": {
      "autoCreated": false,
      "defaultValue": "",
      "label": "",
      "name": "DATA_SOURCE",
      "options": {
       "widgetDisplayType": "Text",
       "validationRegex": null
      },
      "parameterDataType": "String"
     },
     "widgetInfo": {
      "widgetType": "text",
      "defaultValue": "",
      "label": "",
      "name": "DATA_SOURCE",
      "options": {
       "widgetType": "text",
       "autoCreated": false,
       "validationRegex": null
      }
     }
    },
    "INTEGRATION_ID": {
     "currentValue": "EmpId",
     "nuid": "dfcf2c30-0b12-4b37-83a6-24a65ecd21d0",
     "typedWidgetInfo": {
      "autoCreated": false,
      "defaultValue": "",
      "label": "",
      "name": "INTEGRATION_ID",
      "options": {
       "widgetDisplayType": "Text",
       "validationRegex": null
      },
      "parameterDataType": "String"
     },
     "widgetInfo": {
      "widgetType": "text",
      "defaultValue": "",
      "label": "",
      "name": "INTEGRATION_ID",
      "options": {
       "widgetType": "text",
       "autoCreated": false,
       "validationRegex": null
      }
     }
    },
    "LOAD_TYPE": {
     "currentValue": "INCREMENTAL",
     "nuid": "f7628d24-c4da-4621-ade7-44a20a699f5a",
     "typedWidgetInfo": {
      "autoCreated": false,
      "defaultValue": "",
      "label": "",
      "name": "LOAD_TYPE",
      "options": {
       "widgetDisplayType": "Text",
       "validationRegex": null
      },
      "parameterDataType": "String"
     },
     "widgetInfo": {
      "widgetType": "text",
      "defaultValue": "",
      "label": "",
      "name": "LOAD_TYPE",
      "options": {
       "widgetType": "text",
       "autoCreated": false,
       "validationRegex": null
      }
     }
    },
    "RUN_ID": {
     "currentValue": "1111.23.4.4.3.3.2.2",
     "nuid": "e0b44560-15f7-48f9-850f-277b3f20c666",
     "typedWidgetInfo": {
      "autoCreated": false,
      "defaultValue": "",
      "label": "",
      "name": "RUN_ID",
      "options": {
       "widgetDisplayType": "Text",
       "validationRegex": null
      },
      "parameterDataType": "String"
     },
     "widgetInfo": {
      "widgetType": "text",
      "defaultValue": "",
      "label": "",
      "name": "RUN_ID",
      "options": {
       "widgetType": "text",
       "autoCreated": false,
       "validationRegex": null
      }
     }
    },
    "TARGET_TABLE": {
     "currentValue": "HC_EMPLOYEE_D",
     "nuid": "bdc796dc-f6d0-4485-b5e0-350fcac6f39e",
     "typedWidgetInfo": {
      "autoCreated": false,
      "defaultValue": "",
      "label": "",
      "name": "TARGET_TABLE",
      "options": {
       "widgetDisplayType": "Text",
       "validationRegex": null
      },
      "parameterDataType": "String"
     },
     "widgetInfo": {
      "widgetType": "text",
      "defaultValue": "",
      "label": "",
      "name": "TARGET_TABLE",
      "options": {
       "widgetType": "text",
       "autoCreated": false,
       "validationRegex": null
      }
     }
    }
   }
  },
  "language_info": {
   "name": "python"
  }
 },
 "nbformat": 4,
 "nbformat_minor": 0
}